{
 "cells": [
  {
   "cell_type": "code",
   "execution_count": 1,
   "metadata": {},
   "outputs": [],
   "source": [
    "import requests as re\n",
    "from bs4 import BeautifulSoup as bs\n",
    "import pandas as pd"
   ]
  },
  {
   "cell_type": "code",
   "execution_count": 2,
   "metadata": {},
   "outputs": [],
   "source": [
    "url = 'https://www.nytimes.com/issue/todayspaper/2022/04/08/todays-new-york-times'"
   ]
  },
  {
   "cell_type": "code",
   "execution_count": 3,
   "metadata": {},
   "outputs": [],
   "source": [
    "page_html = re.get(url)\n",
    "soup = bs(page_html.text)"
   ]
  },
  {
   "cell_type": "code",
   "execution_count": 29,
   "metadata": {},
   "outputs": [],
   "source": [
    "def return_links(url):\n",
    "    page_html = re.get(url)\n",
    "    soup = bs(page_html.text)\n",
    "    links = soup.find_all('li',class_='css-i435f0')\n",
    "    list_of_articles = []\n",
    "    for link in links:\n",
    "        href = link.find('a')['href']\n",
    "        list_of_articles.append(href)\n",
    "    return list_of_articles"
   ]
  },
  {
   "cell_type": "code",
   "execution_count": 32,
   "metadata": {},
   "outputs": [],
   "source": [
    "today = return_links('https://www.nytimes.com/issue/todayspaper/2022/04/07/todays-new-york-times')"
   ]
  },
  {
   "cell_type": "code",
   "execution_count": 34,
   "metadata": {},
   "outputs": [],
   "source": [
    "list_of_dates = ['2022/04/08','2022/04/07','2022/04/06','2022/04/05','2022/04/04','2022/04/03','2022/04/02','2022/04/01','2022/03/31','2022/03/30','2022/03/29','2022/03/28','2022/03/27','2022/03/26','2022/03/25','2022/03/24','2022/03/23','2022/03/22','2022/03/21','2022/03/20','2022/03/19','2022/03/18','2022/03/17','2022/03/16','2022/03/15','2022/03/14','2022/03/13','2022/03/12','2022/03/11','2022/03/10','2022/03/09','2022/03/08']"
   ]
  },
  {
   "cell_type": "code",
   "execution_count": 35,
   "metadata": {},
   "outputs": [],
   "source": [
    "date_creater = ['https://www.nytimes.com/issue/todayspaper/'+x+'/todays-new-york-times' for x in list_of_dates]"
   ]
  },
  {
   "cell_type": "code",
   "execution_count": 37,
   "metadata": {},
   "outputs": [],
   "source": [
    "all_articles = []\n",
    "for i in date_creater:\n",
    "    c = return_links(i)\n",
    "    all_articles.extend(c)"
   ]
  },
  {
   "cell_type": "code",
   "execution_count": 39,
   "metadata": {},
   "outputs": [
    {
     "data": {
      "text/plain": [
       "1179"
      ]
     },
     "execution_count": 39,
     "metadata": {},
     "output_type": "execute_result"
    }
   ],
   "source": [
    "len(all_articles)"
   ]
  },
  {
   "cell_type": "code",
   "execution_count": 40,
   "metadata": {},
   "outputs": [],
   "source": [
    "#remove duplicates\n",
    "all_articles = list(set(all_articles))"
   ]
  },
  {
   "cell_type": "code",
   "execution_count": 41,
   "metadata": {},
   "outputs": [
    {
     "data": {
      "text/plain": [
       "1028"
      ]
     },
     "execution_count": 41,
     "metadata": {},
     "output_type": "execute_result"
    }
   ],
   "source": [
    "len(all_articles)"
   ]
  },
  {
   "cell_type": "code",
   "execution_count": 86,
   "metadata": {},
   "outputs": [],
   "source": [
    "def extracting_text(url):\n",
    "    article_url = 'https://www.nytimes.com' + url\n",
    "    article_html = re.get(article_url)\n",
    "    soup_article = bs(article_html.text)\n",
    "    lines = soup_article.find_all('p',class_='css-g5piaz evys1bk0')\n",
    "    words = ''\n",
    "    for i in lines:\n",
    "        words = words + i.text\n",
    "    return words"
   ]
  },
  {
   "cell_type": "code",
   "execution_count": 88,
   "metadata": {},
   "outputs": [
    {
     "data": {
      "text/plain": [
       "'/2022/04/01/books/review/letters-to-the-editor.html'"
      ]
     },
     "execution_count": 88,
     "metadata": {},
     "output_type": "execute_result"
    }
   ],
   "source": [
    "all_articles[0]"
   ]
  },
  {
   "cell_type": "code",
   "execution_count": 89,
   "metadata": {},
   "outputs": [],
   "source": [
    "article_texts_list = []\n",
    "for i in all_articles:\n",
    "    article_text = extracting_text(i)\n",
    "    article_texts_list.append(article_text)"
   ]
  },
  {
   "cell_type": "code",
   "execution_count": 61,
   "metadata": {},
   "outputs": [],
   "source": [
    "article_url_test = 'https://www.nytimes.com' + all_articles[1]"
   ]
  },
  {
   "cell_type": "code",
   "execution_count": 62,
   "metadata": {},
   "outputs": [
    {
     "data": {
      "text/plain": [
       "'https://www.nytimes.com/2022/03/22/technology/bitcoin-miners-environment-crypto.html'"
      ]
     },
     "execution_count": 62,
     "metadata": {},
     "output_type": "execute_result"
    }
   ],
   "source": [
    "article_url_test"
   ]
  },
  {
   "cell_type": "code",
   "execution_count": 63,
   "metadata": {},
   "outputs": [],
   "source": [
    "article_html = re.get(article_url_test)\n",
    "soup_article = bs(article_html.text)"
   ]
  },
  {
   "cell_type": "code",
   "execution_count": 64,
   "metadata": {},
   "outputs": [],
   "source": [
    "lines = soup_article.find_all('p',class_='css-g5piaz evys1bk0')"
   ]
  },
  {
   "cell_type": "code",
   "execution_count": 73,
   "metadata": {
    "scrolled": true
   },
   "outputs": [],
   "source": [
    "articles = extracting_text(all_articles[1])\n"
   ]
  },
  {
   "cell_type": "code",
   "execution_count": 75,
   "metadata": {},
   "outputs": [
    {
     "data": {
      "text/plain": [
       "str"
      ]
     },
     "execution_count": 75,
     "metadata": {},
     "output_type": "execute_result"
    }
   ],
   "source": [
    "type(articles)"
   ]
  },
  {
   "cell_type": "code",
   "execution_count": 68,
   "metadata": {},
   "outputs": [
    {
     "data": {
      "text/plain": [
       "'Along a dirt-covered road deep in Texas farm country, the cryptocurrency company Argo Blockchain is building a power plant for the internet age: a crypto “mining” site stocked with computers that generate new Bitcoins.'"
      ]
     },
     "execution_count": 68,
     "metadata": {},
     "output_type": "execute_result"
    }
   ],
   "source": [
    "lines[0].text"
   ]
  },
  {
   "cell_type": "code",
   "execution_count": 69,
   "metadata": {},
   "outputs": [
    {
     "data": {
      "text/plain": [
       "'Along a dirt-covered road deep in Texas farm country, the cryptocurrency company Argo Blockchain is building a power plant for the internet age: a crypto “mining” site stocked with computers that generate new Bitcoins.But unlike other Bitcoin mining operations, which consume large quantities of fossil fuels and produce carbon emissions, Argo claims it’s trying to do something environmentally responsible. As Peter Wall, Argo’s chief executive, led a tour of the 126,000-square-foot construction site one morning this month, he pointed to a row of wind turbines a few miles down the road, their white spokes shining in the sunlight.The new facility, an hour outside Lubbock, would be fueled mostly by wind and solar energy, he declared. “This is Bitcoin mining nirvana,” Mr. Wall said. “You look off into the distance and you’ve got your renewable power.”Facing criticism from politicians and environmentalists, the cryptocurrency mining industry has embarked on a rebranding effort to challenge the prevailing view that its electricity-guzzling computers are harmful to the climate. All five of the largest publicly traded crypto mining companies say they are building or already operating plants powered by renewable energy, and industry executives have started arguing that demand from crypto miners will create opportunities for wind and solar companies to open facilities of their own.The effort — partly a public-relations exercise, partly a genuine attempt to make the industry more sustainable — has intensified since last spring, when China began a crackdown on crypto mining, forcing some mining operations to relocate to the United States. A trade group called the Bitcoin Mining Council also formed last year, partly to tackle climate issues, after Elon Musk criticized the industry for using fossil fuels.Crypto mining does not involve any picks or shovels. Instead, the term refers to a verification and currency creation process that is essential to the Bitcoin ecosystem. Powerful computers race one another to process transactions, solving complex mathematical problems that require quintillions of numerical guesses a second. As a reward for this authentication service, miners receive new coins, providing a financial incentive to keep the computers running.In Bitcoin’s early years, a crypto enthusiast could mine coins by running software on a laptop. But as digital assets have become more popular, the amount of power necessary to generate Bitcoin has soared. A single Bitcoin transaction now requires more than 2,000 kilowatt-hours of electricity, or enough energy to power the average American household for 73 days, researchers estimate.To achieve that, some miners are reviving broken-down coal plants, or using low-cost natural gas to power their computers. Last month, a study in the journal Joule found that Bitcoin mining worldwide may be responsible for about 65 megatons of carbon dioxide a year, comparable to the emissions of Greece.According to the study, the Bitcoin network’s use of green energy sources also dropped to an average of 25 percent in August 2021 from 42 percent in 2020. (The industry has argued that its average renewable use is closer to 60 percent.) That’s partly a result of China’s crackdown, which cut off a source of cheap hydropower. But it reflects fundamental economic incentives, too, said Alex de Vries, one of the authors of the Joule study. Renewable energy is an intermittent power source — the sun shines only part of the day, and wind speeds fluctuate considerably.“What a miner is going to do if they want to maximize the profit is put their machine wherever it can run the entire day,” Mr. de Vries said.Bitcoin’s ballooning energy use has long outraged environmentalists. But the criticism that made the strongest impression came from Mr. Musk, a longtime Bitcoin booster, who said on Twitter in May that Tesla, his electric car company, would no longer accept cryptocurrency payments because of the “increasing use of fossil fuels for Bitcoin mining and transactions.”His tweet sent the mining industry into crisis mode. Michael Saylor, the chief executive of the software company MicroStrategy, which invests heavily in Bitcoin, got in touch with Mr. Musk to discuss the climate issue. A group of mining executives, including Mr. Saylor and Mr. Wall, later met with Mr. Musk over Zoom.“He wanted to make sure that the industry is on the side of sustainability, and he gave us some coaching,” Mr. Saylor recalled. “His encouragement was: ‘Find out how clean is the energy, how sustainable is the energy. Figure out how much you’re using.’” (Mr. Musk did not respond to a request for comment.)After the call, Mr. Saylor set up the Bitcoin Mining Council, a forum for the industry to share ideas and coordinate environmental strategy. One member, TeraWulf, has pledged to run cryptocurrency mines using more than 90 percent zero-carbon energy. It has two projects in the works — a retired coal plant in upstate New York fueled by hydropower, and a nuclear-powered facility in Pennsylvania.“Everyone I talk to now is talking about carbon neutrality,” said Paul Prager, the chief executive of TeraWulf. “The language has absolutely changed.”But financial priorities and technological barriers in the crypto mining industry, which includes more than a dozen publicly traded companies like Argo, are preventing a complete shift to renewable power. In late 2020, Marathon, one of the largest publicly traded mining companies, started mining Bitcoin at a coal-powered plant in Montana, citing the easy access to cheap energy.In Illinois, the cryptocurrency mining company Sangha Systems has repurposed an old steel mill in the town of Hennepin. Sangha is run by a former lawyer, Spencer Marr, who says he founded the company to promote clean energy. But about half the Hennepin operation’s power comes from fossil fuels.“It was a compromise we had to make,” Mr. Marr said. “It was a means to an end that allowed us to establish ourselves as a company.”In recent months, Texas has become a hot spot for crypto mining, attracting more than two dozen companies. The state has an unusual incentive structure that’s well suited to the nascent industry: the Texas grid operator offers what amounts to a discount to companies that can quickly unplug when electricity demand spikes statewide, allowing energy to flow to ordinary homeowners. Many crypto mines can turn on or off in seconds, allowing them to take advantage of the incentive with minimal inconvenience.That deal was part of the attraction for Argo, a London-based company founded in 2017 that runs two other mines in Quebec, using mostly hydropower. Mr. Wall said Argo was also drawn to the ample green energy in West Texas. The facility outside Lubbock will be connected to the western sector of the Texas energy grid, where about 85 percent of electricity comes from wind and solar infrastructure, including a set of turbines that sit practically next door to the Argo construction site.But Mr. Wall can’t guarantee that Argo’s new center will have no carbon footprint. That would require bypassing the grid and buying energy directly from a renewable power company.“A lot of those renewable energy producers are still a little bit skeptical of cryptocurrency,” he said. “The crypto miners don’t have the credit profiles to sign 10- or 15-year deals.”In the future, he said, Argo plans to build its own solar panels on site in Texas and broker deals with local renewables companies to buy energy directly.The broader cryptocurrency community is divided over whether cleaning up the mining sector is the best path to environmental sustainability. The energy-intensive authentication system that underlies Bitcoin is known as “proof of work”; some in the industry are pushing to build new cryptocurrencies on a different system called “proof of stake,” which uses as little as 0.01 percent of the energy consumed in the mining process.Mr. Wall said he had no objections to experimentation with an alternative system. Still, he said, he believes in the long-term potential of Bitcoin to transform finance, though he wishes that miners were called something that sounded less extractive, like “validators.”That’s a battle he’s unlikely to win. But even in the face of backlash, he said, companies will keep mining Bitcoin.“It’s just going to happen. It’s a reality,” he said. “We need to do it in an environmentally friendly way.”'"
      ]
     },
     "execution_count": 69,
     "metadata": {},
     "output_type": "execute_result"
    }
   ],
   "source": [
    "words"
   ]
  },
  {
   "cell_type": "code",
   "execution_count": 93,
   "metadata": {},
   "outputs": [
    {
     "data": {
      "text/plain": [
       "'With Roe v. Wade on thin ice, state legislatures are producing a wave of anti-abortion bills, some of them truly eye-popping. Missouri alone has in recent weeks tried to limit out-of-state travel for abortion, proposed treating the delivery or shipment of abortion pills as drug trafficking and moved to make it a felony to perform an abortion in the event of an ectopic pregnancy (in which a fertilized egg implants outside the womb), a condition that can be life-threatening.In the past, many extreme bills like these would have captured the public’s attention and then quickly disappeared, swept under the rug by lawmakers and abortion opponents who had easier-to-enact plans for dismantling abortion rights.The past year has been different, in a few ways. For one, some fringe bills are actually going into effect. S.B. 8, the Texas law that bans abortion after about six weeks of pregnancy and allows people to sue those who “aid or abet” abortion for at least $10,000, started wreaking havoc in the state in September. A few years ago, S.B. 8-style bills were not on anyone’s radar. Now, they’re spreading, with Idaho passing its own version in recent days.Not every bill being introduced will succeed, but those that fail will matter, in part by influencing the national conversation about women who have abortions. That’s another way things have changed in recent months: Some of this new crop of bills reflect a change in how the anti-abortion movement portrays such women, depicting them as serious criminals rather than innocent victims of the “abortion industry,” as was common in the past. That rhetorical and legal shift sends a powerful message about who is likely to face criminal punishment when Roe is dismantled, as it is expected to be this summer.The anti-abortion argument that women seeking abortions are victims who need to be protected gained currency in the 1990s amid a wave of clinic blockades, bombings and the murder of abortion doctors. The anti-abortion movement had an image problem. Even internal polls conducted by the movement suggested that many Americans believed it to be not only violent but also anti-woman.The movement had a constitutional problem, too. In 1992 the Supreme Court, in Planned Parenthood v. Casey, defied expectations by refusing to reverse Roe v. Wade in its entirety. The court had saved abortion rights partly because a majority of the justices believed that abortion access had allowed women to lead more equal lives. As a result, anti-abortion groups concluded that Roe would never be overturned unless the majority of Supreme Court justices no longer believed that women needed abortion to be equal. The simplest solution, as anti-abortion leaders saw it, was to prove that abortion actually harmed the women it was supposed to help.So the group Americans United for Life pioneered a new strategy, seeking to “shatter the myth that abortion helps women” and establish that women were victims of abortion. In 1997 Dr. John Willke, an anti-abortion obstetrician, published an updated version of his pre-Roe “Handbook on Abortion,” renaming it “Why Can’t We Love Them Both?” — referring to fetuses and women who might abort them. In 1991 the National Right to Life Committee, the nation’s largest anti-abortion organization, chose as its president Wanda Franz, a psychology professor who had started an anti-abortion research organization to study the psychological problems that some women were believed to suffer after abortion.Woman-protective arguments underwrote dozens of anti-abortion laws that were passed around the country over the past decade. Contested claims that abortion could cause regret or even post-traumatic stress appeared in major Supreme Court opinions, such as Gonzales v. Carhart in 2007, and in mandated counseling laws in conservative states.Yet in December, when the Supreme Court heard oral arguments in the biggest abortion case in decades, Dobbs v. Jackson Women’s Health Organization, rationalizations about protecting women from abortion were sidelined. Anti-abortion groups and lawyers for the State of Mississippi stressed that abortion was simply unnecessary: Women had achieved more equal citizenship but not thanks to widespread abortion access. Just look at the newest Supreme Court justice, Amy Coney Barrett: She’s enjoyed tremendous professional success and had a large family. Why can’t everyone else do the same?There were always going to be practical reasons for abortion foes to stop portraying individual women as victims. For one thing, states have already prosecuted women for conduct during pregnancy. But unless states do more to punish those who can become pregnant, anti-abortion laws will become difficult to enforce: If you ban the procedure, women will travel out of state or order pills online. So you have to stop them from doing those things, too. And individual women will be easier for conservative states to target than abortion providers or pill distributors in other states or countries.Anti-abortion states have a decision to make: If they want to strongly enforce criminal abortion bans, they will probably have to go after women. Missouri’s recent bills suggest which way that decision will go.'"
      ]
     },
     "execution_count": 93,
     "metadata": {},
     "output_type": "execute_result"
    }
   ],
   "source": [
    "article_texts_list[2]"
   ]
  },
  {
   "cell_type": "code",
   "execution_count": 94,
   "metadata": {},
   "outputs": [],
   "source": [
    "data_for_df = list(zip(all_articles,article_texts_list))\n",
    "df = pd.DataFrame(data_for_df, columns=['url','articles'])"
   ]
  },
  {
   "cell_type": "code",
   "execution_count": 96,
   "metadata": {},
   "outputs": [
    {
     "data": {
      "text/plain": [
       "1208169"
      ]
     },
     "execution_count": 96,
     "metadata": {},
     "output_type": "execute_result"
    }
   ],
   "source": [
    "sum([len(d.split(' ')) for d in df.articles])"
   ]
  },
  {
   "cell_type": "code",
   "execution_count": 97,
   "metadata": {},
   "outputs": [
    {
     "data": {
      "text/plain": [
       "(1028, 2)"
      ]
     },
     "execution_count": 97,
     "metadata": {},
     "output_type": "execute_result"
    }
   ],
   "source": [
    "df.shape"
   ]
  },
  {
   "cell_type": "code",
   "execution_count": 98,
   "metadata": {},
   "outputs": [],
   "source": [
    "df.to_csv('raw_data.csv')"
   ]
  },
  {
   "cell_type": "code",
   "execution_count": null,
   "metadata": {},
   "outputs": [],
   "source": []
  }
 ],
 "metadata": {
  "kernelspec": {
   "display_name": "Python 3",
   "language": "python",
   "name": "python3"
  },
  "language_info": {
   "codemirror_mode": {
    "name": "ipython",
    "version": 3
   },
   "file_extension": ".py",
   "mimetype": "text/x-python",
   "name": "python",
   "nbconvert_exporter": "python",
   "pygments_lexer": "ipython3",
   "version": "3.7.6"
  }
 },
 "nbformat": 4,
 "nbformat_minor": 4
}
