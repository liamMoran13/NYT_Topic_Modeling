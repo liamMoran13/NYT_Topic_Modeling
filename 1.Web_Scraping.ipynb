{
 "cells": [
  {
   "cell_type": "markdown",
   "metadata": {},
   "source": [
    "# Import libraries"
   ]
  },
  {
   "cell_type": "code",
   "execution_count": 1,
   "metadata": {},
   "outputs": [],
   "source": [
    "import requests as re\n",
    "from bs4 import BeautifulSoup as bs\n",
    "import pandas as pd"
   ]
  },
  {
   "cell_type": "markdown",
   "metadata": {},
   "source": [
    "# Functions for extraction"
   ]
  },
  {
   "cell_type": "code",
   "execution_count": 29,
   "metadata": {},
   "outputs": [],
   "source": [
    "#this function takes in the daily paper and returns a list of the articles on that page\n",
    "def return_links(url):\n",
    "    page_html = re.get(url)\n",
    "    soup = bs(page_html.text)\n",
    "    links = soup.find_all('li',class_='css-i435f0')\n",
    "    list_of_articles = []\n",
    "    for link in links:\n",
    "        href = link.find('a')['href']\n",
    "        list_of_articles.append(href)\n",
    "    return list_of_articles"
   ]
  },
  {
   "cell_type": "code",
   "execution_count": 34,
   "metadata": {},
   "outputs": [],
   "source": [
    "#the list of dates we will be using\n",
    "list_of_dates = ['2022/04/08','2022/04/07','2022/04/06','2022/04/05','2022/04/04','2022/04/03','2022/04/02','2022/04/01','2022/03/31','2022/03/30','2022/03/29','2022/03/28','2022/03/27','2022/03/26','2022/03/25','2022/03/24','2022/03/23','2022/03/22','2022/03/21','2022/03/20','2022/03/19','2022/03/18','2022/03/17','2022/03/16','2022/03/15','2022/03/14','2022/03/13','2022/03/12','2022/03/11','2022/03/10','2022/03/09','2022/03/08']"
   ]
  },
  {
   "cell_type": "code",
   "execution_count": 35,
   "metadata": {},
   "outputs": [],
   "source": [
    "#create a list of the front page for each day\n",
    "date_creater = ['https://www.nytimes.com/issue/todayspaper/'+x+'/todays-new-york-times' for x in list_of_dates]"
   ]
  },
  {
   "cell_type": "code",
   "execution_count": 37,
   "metadata": {},
   "outputs": [],
   "source": [
    "#creates a list of all articles on all of those dates\n",
    "all_articles = []\n",
    "for i in date_creater:\n",
    "    c = return_links(i)\n",
    "    all_articles.extend(c)"
   ]
  },
  {
   "cell_type": "code",
   "execution_count": 39,
   "metadata": {},
   "outputs": [
    {
     "data": {
      "text/plain": [
       "1179"
      ]
     },
     "execution_count": 39,
     "metadata": {},
     "output_type": "execute_result"
    }
   ],
   "source": [
    "len(all_articles)"
   ]
  },
  {
   "cell_type": "code",
   "execution_count": 40,
   "metadata": {},
   "outputs": [],
   "source": [
    "#remove duplicates\n",
    "all_articles = list(set(all_articles))"
   ]
  },
  {
   "cell_type": "code",
   "execution_count": 41,
   "metadata": {},
   "outputs": [
    {
     "data": {
      "text/plain": [
       "1028"
      ]
     },
     "execution_count": 41,
     "metadata": {},
     "output_type": "execute_result"
    }
   ],
   "source": [
    "len(all_articles)"
   ]
  },
  {
   "cell_type": "code",
   "execution_count": 86,
   "metadata": {},
   "outputs": [],
   "source": [
    "#takes in the url of an article and returns the text of the article\n",
    "def extracting_text(url):\n",
    "    article_url = 'https://www.nytimes.com' + url\n",
    "    article_html = re.get(article_url)\n",
    "    soup_article = bs(article_html.text)\n",
    "    lines = soup_article.find_all('p',class_='css-g5piaz evys1bk0')\n",
    "    words = ''\n",
    "    for i in lines:\n",
    "        words = words + i.text\n",
    "    return words"
   ]
  },
  {
   "cell_type": "code",
   "execution_count": 89,
   "metadata": {},
   "outputs": [],
   "source": [
    "#creates a list of all articles\n",
    "article_texts_list = []\n",
    "for i in all_articles:\n",
    "    article_text = extracting_text(i)\n",
    "    article_texts_list.append(article_text)"
   ]
  },
  {
   "cell_type": "code",
   "execution_count": 94,
   "metadata": {},
   "outputs": [],
   "source": [
    "#creates dataframe of urls and articles\n",
    "data_for_df = list(zip(all_articles,article_texts_list))\n",
    "df = pd.DataFrame(data_for_df, columns=['url','articles'])"
   ]
  },
  {
   "cell_type": "code",
   "execution_count": 97,
   "metadata": {},
   "outputs": [
    {
     "data": {
      "text/plain": [
       "(1028, 2)"
      ]
     },
     "execution_count": 97,
     "metadata": {},
     "output_type": "execute_result"
    }
   ],
   "source": [
    "df.shape"
   ]
  },
  {
   "cell_type": "code",
   "execution_count": 98,
   "metadata": {},
   "outputs": [],
   "source": [
    "df.to_csv('raw_data.csv')"
   ]
  },
  {
   "cell_type": "code",
   "execution_count": null,
   "metadata": {},
   "outputs": [],
   "source": []
  }
 ],
 "metadata": {
  "kernelspec": {
   "display_name": "Python 3",
   "language": "python",
   "name": "python3"
  },
  "language_info": {
   "codemirror_mode": {
    "name": "ipython",
    "version": 3
   },
   "file_extension": ".py",
   "mimetype": "text/x-python",
   "name": "python",
   "nbconvert_exporter": "python",
   "pygments_lexer": "ipython3",
   "version": "3.7.6"
  }
 },
 "nbformat": 4,
 "nbformat_minor": 4
}
