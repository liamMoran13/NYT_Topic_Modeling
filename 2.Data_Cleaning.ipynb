{
 "cells": [
  {
   "cell_type": "markdown",
   "metadata": {},
   "source": [
    "# Import libraries"
   ]
  },
  {
   "cell_type": "code",
   "execution_count": 1,
   "metadata": {},
   "outputs": [],
   "source": [
    "import pandas as pd\n",
    "import re\n",
    "import string\n",
    "from sklearn.feature_extraction.text import CountVectorizer\n",
    "from nltk.stem import WordNetLemmatizer\n",
    "import nltk\n",
    "from sklearn.decomposition import NMF\n",
    "import numpy as np"
   ]
  },
  {
   "cell_type": "markdown",
   "metadata": {},
   "source": [
    "# Read in data"
   ]
  },
  {
   "cell_type": "code",
   "execution_count": 2,
   "metadata": {},
   "outputs": [],
   "source": [
    "df = pd.read_csv('raw_data.csv',index_col=[0])"
   ]
  },
  {
   "cell_type": "markdown",
   "metadata": {},
   "source": [
    "# Preprocessing Data"
   ]
  },
  {
   "cell_type": "code",
   "execution_count": 4,
   "metadata": {},
   "outputs": [],
   "source": [
    "df_copy = df.copy()"
   ]
  },
  {
   "cell_type": "code",
   "execution_count": 5,
   "metadata": {},
   "outputs": [],
   "source": [
    "#this function takes in text and removes the punctuation\n",
    "def punctuation_removal(text):\n",
    "    punctuationfree= \"\".join([i for i in text if i not in string.punctuation])\n",
    "    return punctuationfree "
   ]
  },
  {
   "cell_type": "code",
   "execution_count": 6,
   "metadata": {},
   "outputs": [],
   "source": [
    "#turn all the letters to lowercase\n",
    "df_copy.articles = df_copy.articles.str.lower()"
   ]
  },
  {
   "cell_type": "code",
   "execution_count": 7,
   "metadata": {},
   "outputs": [],
   "source": [
    "df_copy.articles = df_copy.articles.map(lambda x: re.sub('[%s]' % re.escape(string.punctuation), ' ', str(x)))"
   ]
  },
  {
   "cell_type": "code",
   "execution_count": 8,
   "metadata": {},
   "outputs": [],
   "source": [
    "df_copy.articles = df_copy.articles.apply(lambda x: punctuation_removal(str(x)))"
   ]
  },
  {
   "cell_type": "markdown",
   "metadata": {},
   "source": [
    "# Create Vectorizer"
   ]
  },
  {
   "cell_type": "code",
   "execution_count": 10,
   "metadata": {},
   "outputs": [],
   "source": [
    "#initializes a count vectorizer\n",
    "vectorizer = CountVectorizer(stop_words={'english'},max_df=.70,min_df=2,token_pattern=r'(?u)\\b[A-Za-z]+\\b')"
   ]
  },
  {
   "cell_type": "code",
   "execution_count": 11,
   "metadata": {},
   "outputs": [],
   "source": [
    "#creating a function that tokenizes the text\n",
    "def tokenize_text(articles):\n",
    "    output = articles.split(' ')\n",
    "    return output"
   ]
  },
  {
   "cell_type": "code",
   "execution_count": 12,
   "metadata": {},
   "outputs": [],
   "source": [
    "df_copy['tokenized'] = df_copy['articles'].apply(lambda x: tokenize_text(x))"
   ]
  },
  {
   "cell_type": "code",
   "execution_count": 13,
   "metadata": {},
   "outputs": [],
   "source": [
    "#initialize lemmatizer\n",
    "lemmatizer = WordNetLemmatizer()"
   ]
  },
  {
   "cell_type": "code",
   "execution_count": 14,
   "metadata": {},
   "outputs": [
    {
     "name": "stderr",
     "output_type": "stream",
     "text": [
      "[nltk_data] Downloading package wordnet to\n",
      "[nltk_data]     C:\\Users\\lmoran\\AppData\\Roaming\\nltk_data...\n",
      "[nltk_data]   Package wordnet is already up-to-date!\n"
     ]
    }
   ],
   "source": [
    "nltk.download('wordnet')\n",
    "\n",
    "#this function lemmatizes each word and returns it into a list\n",
    "def lemma(text):\n",
    "    output = [lemmatizer.lemmatize(word) for word in text]\n",
    "    return output\n",
    "\n",
    "\n",
    "df_copy['lemmatized'] = df_copy['tokenized'].apply(lambda x: lemma(x))"
   ]
  },
  {
   "cell_type": "code",
   "execution_count": 16,
   "metadata": {},
   "outputs": [],
   "source": [
    "#creates a string from a tokenized text\n",
    "def creating_strings(text):\n",
    "    empty = ''\n",
    "    for i in text:\n",
    "        empty = empty + ' '+ i\n",
    "    return empty"
   ]
  },
  {
   "cell_type": "code",
   "execution_count": 17,
   "metadata": {},
   "outputs": [],
   "source": [
    "df_copy['back_to_strings'] = df_copy['lemmatized'].apply(lambda x: creating_strings(x))"
   ]
  },
  {
   "cell_type": "code",
   "execution_count": 18,
   "metadata": {},
   "outputs": [],
   "source": [
    "df_copy['back_to_strings'] = df_copy['back_to_strings'].str.lower()"
   ]
  },
  {
   "cell_type": "code",
   "execution_count": 19,
   "metadata": {},
   "outputs": [
    {
     "data": {
      "text/plain": [
       "0        to the editor regarding daphne merkin’s revie...\n",
       "1        along a dirt covered road deep in texas farm ...\n",
       "2        with roe v  wade on thin ice  state legislatu...\n",
       "3        phoenix — when the 99 day work stoppage in ma...\n",
       "4         russia is teetering on the edge of a possibl...\n",
       "                              ...                        \n",
       "1023     johnny grier  who became the first black refe...\n",
       "1024     sometimes lately  when he hasn’t been rehears...\n",
       "1025     tijuana  mexico — the frontier shape this met...\n",
       "1026     until recent event at the oscar  the film sea...\n",
       "1027     lisette coly and anastasia damalas are at a c...\n",
       "Name: back_to_strings, Length: 1028, dtype: object"
      ]
     },
     "execution_count": 19,
     "metadata": {},
     "output_type": "execute_result"
    }
   ],
   "source": [
    "df_copy['back_to_strings']"
   ]
  },
  {
   "cell_type": "code",
   "execution_count": 20,
   "metadata": {},
   "outputs": [],
   "source": [
    "X = vectorizer.fit_transform(df_copy.back_to_strings)\n",
    "terms = vectorizer.get_feature_names()"
   ]
  },
  {
   "cell_type": "code",
   "execution_count": 21,
   "metadata": {},
   "outputs": [],
   "source": [
    "nmf_10 = NMF(n_components=10)\n",
    "doc_topic = nmf_10.fit_transform(X)"
   ]
  },
  {
   "cell_type": "code",
   "execution_count": 23,
   "metadata": {},
   "outputs": [],
   "source": [
    "#function from Metis\n",
    "def get_top_terms(topic, n_terms, nmf=nmf_10, terms=terms):\n",
    "    # get the topic components (i.e., term weights)\n",
    "    components = nmf.components_[topic, :]\n",
    "\n",
    "    # get term indices, sorted (descending) by topic weights\n",
    "    top_term_indices = components.argsort()[-n_terms:]\n",
    "    \n",
    "    # use the `terms` array to get the actual top terms\n",
    "    top_terms = np.array(terms)[top_term_indices]\n",
    "    \n",
    "    return top_terms.tolist()"
   ]
  },
  {
   "cell_type": "code",
   "execution_count": 24,
   "metadata": {},
   "outputs": [
    {
     "data": {
      "text/plain": [
       "['political-white-election-biden-former-house-president-him-trump-mr',\n",
       " 'u-where-me-my-mother-told-charo-woman-her-she',\n",
       " 're-just-people-do-me-your-can-what-my-you',\n",
       " 'c-player-season-n-no-first-tournament-team-point-game',\n",
       " 'u-united-military-country-ukrainian-putin-war-ukraine-russian-russia',\n",
       " 'map-election-bill-democrat-right-republican-law-court-abortion-state',\n",
       " 'senator-school-case-justice-law-black-republican-court-jackson-judge',\n",
       " 'group-first-because-family-work-she-company-her-people-m',\n",
       " 'inflation-market-oil-rate-energy-will-percent-gas-price-company',\n",
       " 'pandemic-school-york-many-vaccine-covid-health-people-dr-city']"
      ]
     },
     "execution_count": 24,
     "metadata": {},
     "output_type": "execute_result"
    }
   ],
   "source": [
    "topics = ['-'.join(get_top_terms(i,10)) for i in range(10)]\n",
    "topics"
   ]
  },
  {
   "cell_type": "code",
   "execution_count": 25,
   "metadata": {},
   "outputs": [
    {
     "data": {
      "text/plain": [
       "['political',\n",
       " 'white',\n",
       " 'election',\n",
       " 'biden',\n",
       " 'former',\n",
       " 'house',\n",
       " 'president',\n",
       " 'him',\n",
       " 'trump',\n",
       " 'mr']"
      ]
     },
     "execution_count": 25,
     "metadata": {},
     "output_type": "execute_result"
    }
   ],
   "source": [
    "get_top_terms(0, 10, nmf_10, terms)"
   ]
  },
  {
   "cell_type": "markdown",
   "metadata": {},
   "source": [
    "# Test Different Values of max_df"
   ]
  },
  {
   "cell_type": "code",
   "execution_count": 26,
   "metadata": {},
   "outputs": [],
   "source": [
    "vectorizer2 = CountVectorizer(stop_words={'english'},max_df=.8,min_df=2)"
   ]
  },
  {
   "cell_type": "code",
   "execution_count": 27,
   "metadata": {},
   "outputs": [],
   "source": [
    "X = vectorizer.fit_transform(df_copy.back_to_strings)\n",
    "terms2 = vectorizer.get_feature_names()"
   ]
  },
  {
   "cell_type": "code",
   "execution_count": 28,
   "metadata": {},
   "outputs": [],
   "source": [
    "nmf_10_2= NMF(n_components=5)\n",
    "doc_topic = nmf_10_2.fit_transform(X)"
   ]
  },
  {
   "cell_type": "code",
   "execution_count": 29,
   "metadata": {},
   "outputs": [
    {
     "data": {
      "text/plain": [
       "['them', 'could', 'dr', 'many', 'will', 'city', 'what', 'can', 'people', 'you']"
      ]
     },
     "execution_count": 29,
     "metadata": {},
     "output_type": "execute_result"
    }
   ],
   "source": [
    "get_top_terms(0,10,nmf_10_2,terms2)"
   ]
  },
  {
   "cell_type": "code",
   "execution_count": 30,
   "metadata": {},
   "outputs": [
    {
     "data": {
      "text/plain": [
       "['political-white-election-biden-former-house-president-him-trump-mr',\n",
       " 'u-where-me-my-mother-told-charo-woman-her-she',\n",
       " 're-just-people-do-me-your-can-what-my-you',\n",
       " 'c-player-season-n-no-first-tournament-team-point-game',\n",
       " 'u-united-military-country-ukrainian-putin-war-ukraine-russian-russia',\n",
       " 'map-election-bill-democrat-right-republican-law-court-abortion-state',\n",
       " 'senator-school-case-justice-law-black-republican-court-jackson-judge',\n",
       " 'group-first-because-family-work-she-company-her-people-m',\n",
       " 'inflation-market-oil-rate-energy-will-percent-gas-price-company',\n",
       " 'pandemic-school-york-many-vaccine-covid-health-people-dr-city']"
      ]
     },
     "execution_count": 30,
     "metadata": {},
     "output_type": "execute_result"
    }
   ],
   "source": [
    "topics = ['-'.join(get_top_terms(i,10)) for i in range(10)]\n",
    "topics"
   ]
  },
  {
   "cell_type": "markdown",
   "metadata": {},
   "source": [
    "Through initial results, the most important hyperparameter going forward will be the max_df. When we had it set at .9 we received too many generic words in our topics. So we lowered it to .8. We will try lowering it even further with future work."
   ]
  },
  {
   "cell_type": "markdown",
   "metadata": {},
   "source": [
    "The topics that we see with 10 topics are \n",
    "1. Pandemic and New York City\n",
    "2. Unclear, ends with feminine pronouns\n",
    "3. US politics\n",
    "4. Unclear, ends with masculine pronouns\n",
    "5. Sports\n",
    "6. Ukraine-Russia Conflict\n",
    "7. Pronouns, could be editirials?\n",
    "8. ketanji brown jackson supreme court\n",
    "9. Covid and vaccines\n",
    "10. Gas prices rising"
   ]
  },
  {
   "cell_type": "code",
   "execution_count": 32,
   "metadata": {},
   "outputs": [],
   "source": [
    "#creates year column for dynamic topic modeling\n",
    "df_copy['year'] = df_copy.url.apply(lambda x : x[1:11])"
   ]
  },
  {
   "cell_type": "code",
   "execution_count": 36,
   "metadata": {},
   "outputs": [],
   "source": [
    "df_copy.drop(df_copy[df_copy['year'] == 'live/2022/'].index, inplace = True)"
   ]
  },
  {
   "cell_type": "code",
   "execution_count": 39,
   "metadata": {},
   "outputs": [],
   "source": [
    "df_copy['year'] = pd.to_datetime(df_copy[\"year\"])"
   ]
  },
  {
   "cell_type": "code",
   "execution_count": 40,
   "metadata": {},
   "outputs": [],
   "source": [
    "df_copy.to_csv('converted_data.csv')"
   ]
  },
  {
   "cell_type": "code",
   "execution_count": null,
   "metadata": {},
   "outputs": [],
   "source": []
  }
 ],
 "metadata": {
  "kernelspec": {
   "display_name": "Python 3",
   "language": "python",
   "name": "python3"
  },
  "language_info": {
   "codemirror_mode": {
    "name": "ipython",
    "version": 3
   },
   "file_extension": ".py",
   "mimetype": "text/x-python",
   "name": "python",
   "nbconvert_exporter": "python",
   "pygments_lexer": "ipython3",
   "version": "3.7.6"
  }
 },
 "nbformat": 4,
 "nbformat_minor": 4
}
