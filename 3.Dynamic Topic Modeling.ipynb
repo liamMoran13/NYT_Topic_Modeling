{
 "cells": [
  {
   "cell_type": "code",
   "execution_count": 1,
   "id": "90e93d5a",
   "metadata": {},
   "outputs": [],
   "source": [
    "import gensim"
   ]
  },
  {
   "cell_type": "code",
   "execution_count": 2,
   "id": "32e18603",
   "metadata": {},
   "outputs": [],
   "source": [
    "from gensim.test.utils import common_corpus\n",
    "from gensim.models import ldaseqmodel"
   ]
  },
  {
   "cell_type": "code",
   "execution_count": 3,
   "id": "dc2a73d0",
   "metadata": {},
   "outputs": [],
   "source": [
    "from gensim import corpora"
   ]
  },
  {
   "cell_type": "code",
   "execution_count": 4,
   "id": "63341e05",
   "metadata": {},
   "outputs": [],
   "source": [
    "from scipy.sparse import csc"
   ]
  },
  {
   "cell_type": "code",
   "execution_count": 5,
   "id": "2630cdbf",
   "metadata": {},
   "outputs": [],
   "source": [
    "import pandas as pd"
   ]
  },
  {
   "cell_type": "code",
   "execution_count": 6,
   "id": "06070d92",
   "metadata": {},
   "outputs": [],
   "source": [
    "df = pd.read_csv('converted_data.csv',index_col=[0])"
   ]
  },
  {
   "cell_type": "code",
   "execution_count": 7,
   "id": "d9d8aee9",
   "metadata": {},
   "outputs": [],
   "source": [
    "from sklearn.feature_extraction.text import CountVectorizer"
   ]
  },
  {
   "cell_type": "code",
   "execution_count": 13,
   "id": "ee17f945",
   "metadata": {},
   "outputs": [],
   "source": [
    "vectorizer = CountVectorizer(stop_words={'english'},max_df=.7,min_df=2,ngram_range=(1,2),token_pattern=r'(?u)\\b[A-Za-z]+\\b')\n",
    "matrix = vectorizer.fit_transform(df_processing.back_to_strings)\n",
    "matrix_df = pd.DataFrame(matrix.toarray(),columns=vectorizer.get_feature_names())"
   ]
  },
  {
   "cell_type": "code",
   "execution_count": 9,
   "id": "3c6ea033",
   "metadata": {},
   "outputs": [],
   "source": [
    "df_processing = df[['back_to_strings', 'year']]"
   ]
  },
  {
   "cell_type": "code",
   "execution_count": 11,
   "id": "105b5018",
   "metadata": {},
   "outputs": [],
   "source": [
    "df_processing = df_processing.sort_values(by='year')"
   ]
  },
  {
   "cell_type": "code",
   "execution_count": 12,
   "id": "926a84b4",
   "metadata": {},
   "outputs": [],
   "source": [
    "time_slice = df_processing.year.value_counts().reset_index().sort_values(by='index')"
   ]
  },
  {
   "cell_type": "code",
   "execution_count": 14,
   "id": "86a005dc",
   "metadata": {},
   "outputs": [
    {
     "data": {
      "text/html": [
       "<div>\n",
       "<style scoped>\n",
       "    .dataframe tbody tr th:only-of-type {\n",
       "        vertical-align: middle;\n",
       "    }\n",
       "\n",
       "    .dataframe tbody tr th {\n",
       "        vertical-align: top;\n",
       "    }\n",
       "\n",
       "    .dataframe thead th {\n",
       "        text-align: right;\n",
       "    }\n",
       "</style>\n",
       "<table border=\"1\" class=\"dataframe\">\n",
       "  <thead>\n",
       "    <tr style=\"text-align: right;\">\n",
       "      <th></th>\n",
       "      <th>index</th>\n",
       "      <th>year</th>\n",
       "    </tr>\n",
       "  </thead>\n",
       "  <tbody>\n",
       "    <tr>\n",
       "      <th>38</th>\n",
       "      <td>2022-01-31</td>\n",
       "      <td>1</td>\n",
       "    </tr>\n",
       "    <tr>\n",
       "      <th>39</th>\n",
       "      <td>2022-02-10</td>\n",
       "      <td>1</td>\n",
       "    </tr>\n",
       "    <tr>\n",
       "      <th>40</th>\n",
       "      <td>2022-02-22</td>\n",
       "      <td>1</td>\n",
       "    </tr>\n",
       "    <tr>\n",
       "      <th>37</th>\n",
       "      <td>2022-02-24</td>\n",
       "      <td>1</td>\n",
       "    </tr>\n",
       "    <tr>\n",
       "      <th>36</th>\n",
       "      <td>2022-03-03</td>\n",
       "      <td>2</td>\n",
       "    </tr>\n",
       "    <tr>\n",
       "      <th>32</th>\n",
       "      <td>2022-03-04</td>\n",
       "      <td>6</td>\n",
       "    </tr>\n",
       "    <tr>\n",
       "      <th>33</th>\n",
       "      <td>2022-03-05</td>\n",
       "      <td>4</td>\n",
       "    </tr>\n",
       "    <tr>\n",
       "      <th>35</th>\n",
       "      <td>2022-03-06</td>\n",
       "      <td>2</td>\n",
       "    </tr>\n",
       "    <tr>\n",
       "      <th>22</th>\n",
       "      <td>2022-03-07</td>\n",
       "      <td>27</td>\n",
       "    </tr>\n",
       "    <tr>\n",
       "      <th>10</th>\n",
       "      <td>2022-03-08</td>\n",
       "      <td>35</td>\n",
       "    </tr>\n",
       "    <tr>\n",
       "      <th>8</th>\n",
       "      <td>2022-03-09</td>\n",
       "      <td>37</td>\n",
       "    </tr>\n",
       "    <tr>\n",
       "      <th>17</th>\n",
       "      <td>2022-03-10</td>\n",
       "      <td>30</td>\n",
       "    </tr>\n",
       "    <tr>\n",
       "      <th>1</th>\n",
       "      <td>2022-03-11</td>\n",
       "      <td>44</td>\n",
       "    </tr>\n",
       "    <tr>\n",
       "      <th>31</th>\n",
       "      <td>2022-03-12</td>\n",
       "      <td>16</td>\n",
       "    </tr>\n",
       "    <tr>\n",
       "      <th>24</th>\n",
       "      <td>2022-03-13</td>\n",
       "      <td>25</td>\n",
       "    </tr>\n",
       "    <tr>\n",
       "      <th>14</th>\n",
       "      <td>2022-03-14</td>\n",
       "      <td>32</td>\n",
       "    </tr>\n",
       "    <tr>\n",
       "      <th>19</th>\n",
       "      <td>2022-03-15</td>\n",
       "      <td>29</td>\n",
       "    </tr>\n",
       "    <tr>\n",
       "      <th>12</th>\n",
       "      <td>2022-03-16</td>\n",
       "      <td>34</td>\n",
       "    </tr>\n",
       "    <tr>\n",
       "      <th>16</th>\n",
       "      <td>2022-03-17</td>\n",
       "      <td>31</td>\n",
       "    </tr>\n",
       "    <tr>\n",
       "      <th>9</th>\n",
       "      <td>2022-03-18</td>\n",
       "      <td>35</td>\n",
       "    </tr>\n",
       "    <tr>\n",
       "      <th>28</th>\n",
       "      <td>2022-03-19</td>\n",
       "      <td>18</td>\n",
       "    </tr>\n",
       "    <tr>\n",
       "      <th>26</th>\n",
       "      <td>2022-03-20</td>\n",
       "      <td>21</td>\n",
       "    </tr>\n",
       "    <tr>\n",
       "      <th>20</th>\n",
       "      <td>2022-03-21</td>\n",
       "      <td>29</td>\n",
       "    </tr>\n",
       "    <tr>\n",
       "      <th>6</th>\n",
       "      <td>2022-03-22</td>\n",
       "      <td>37</td>\n",
       "    </tr>\n",
       "    <tr>\n",
       "      <th>2</th>\n",
       "      <td>2022-03-23</td>\n",
       "      <td>44</td>\n",
       "    </tr>\n",
       "    <tr>\n",
       "      <th>7</th>\n",
       "      <td>2022-03-24</td>\n",
       "      <td>37</td>\n",
       "    </tr>\n",
       "    <tr>\n",
       "      <th>0</th>\n",
       "      <td>2022-03-25</td>\n",
       "      <td>44</td>\n",
       "    </tr>\n",
       "    <tr>\n",
       "      <th>30</th>\n",
       "      <td>2022-03-26</td>\n",
       "      <td>16</td>\n",
       "    </tr>\n",
       "    <tr>\n",
       "      <th>25</th>\n",
       "      <td>2022-03-27</td>\n",
       "      <td>24</td>\n",
       "    </tr>\n",
       "    <tr>\n",
       "      <th>15</th>\n",
       "      <td>2022-03-28</td>\n",
       "      <td>32</td>\n",
       "    </tr>\n",
       "    <tr>\n",
       "      <th>18</th>\n",
       "      <td>2022-03-29</td>\n",
       "      <td>30</td>\n",
       "    </tr>\n",
       "    <tr>\n",
       "      <th>5</th>\n",
       "      <td>2022-03-30</td>\n",
       "      <td>39</td>\n",
       "    </tr>\n",
       "    <tr>\n",
       "      <th>3</th>\n",
       "      <td>2022-03-31</td>\n",
       "      <td>41</td>\n",
       "    </tr>\n",
       "    <tr>\n",
       "      <th>4</th>\n",
       "      <td>2022-04-01</td>\n",
       "      <td>39</td>\n",
       "    </tr>\n",
       "    <tr>\n",
       "      <th>29</th>\n",
       "      <td>2022-04-02</td>\n",
       "      <td>17</td>\n",
       "    </tr>\n",
       "    <tr>\n",
       "      <th>23</th>\n",
       "      <td>2022-04-03</td>\n",
       "      <td>26</td>\n",
       "    </tr>\n",
       "    <tr>\n",
       "      <th>13</th>\n",
       "      <td>2022-04-04</td>\n",
       "      <td>34</td>\n",
       "    </tr>\n",
       "    <tr>\n",
       "      <th>21</th>\n",
       "      <td>2022-04-05</td>\n",
       "      <td>27</td>\n",
       "    </tr>\n",
       "    <tr>\n",
       "      <th>11</th>\n",
       "      <td>2022-04-06</td>\n",
       "      <td>34</td>\n",
       "    </tr>\n",
       "    <tr>\n",
       "      <th>27</th>\n",
       "      <td>2022-04-07</td>\n",
       "      <td>21</td>\n",
       "    </tr>\n",
       "    <tr>\n",
       "      <th>34</th>\n",
       "      <td>2022-04-08</td>\n",
       "      <td>2</td>\n",
       "    </tr>\n",
       "  </tbody>\n",
       "</table>\n",
       "</div>"
      ],
      "text/plain": [
       "         index  year\n",
       "38  2022-01-31     1\n",
       "39  2022-02-10     1\n",
       "40  2022-02-22     1\n",
       "37  2022-02-24     1\n",
       "36  2022-03-03     2\n",
       "32  2022-03-04     6\n",
       "33  2022-03-05     4\n",
       "35  2022-03-06     2\n",
       "22  2022-03-07    27\n",
       "10  2022-03-08    35\n",
       "8   2022-03-09    37\n",
       "17  2022-03-10    30\n",
       "1   2022-03-11    44\n",
       "31  2022-03-12    16\n",
       "24  2022-03-13    25\n",
       "14  2022-03-14    32\n",
       "19  2022-03-15    29\n",
       "12  2022-03-16    34\n",
       "16  2022-03-17    31\n",
       "9   2022-03-18    35\n",
       "28  2022-03-19    18\n",
       "26  2022-03-20    21\n",
       "20  2022-03-21    29\n",
       "6   2022-03-22    37\n",
       "2   2022-03-23    44\n",
       "7   2022-03-24    37\n",
       "0   2022-03-25    44\n",
       "30  2022-03-26    16\n",
       "25  2022-03-27    24\n",
       "15  2022-03-28    32\n",
       "18  2022-03-29    30\n",
       "5   2022-03-30    39\n",
       "3   2022-03-31    41\n",
       "4   2022-04-01    39\n",
       "29  2022-04-02    17\n",
       "23  2022-04-03    26\n",
       "13  2022-04-04    34\n",
       "21  2022-04-05    27\n",
       "11  2022-04-06    34\n",
       "27  2022-04-07    21\n",
       "34  2022-04-08     2"
      ]
     },
     "execution_count": 14,
     "metadata": {},
     "output_type": "execute_result"
    }
   ],
   "source": [
    "time_slice"
   ]
  },
  {
   "cell_type": "code",
   "execution_count": 17,
   "id": "36f48ee2",
   "metadata": {},
   "outputs": [],
   "source": [
    "time_slice = list(time_slice.year)"
   ]
  },
  {
   "cell_type": "code",
   "execution_count": 18,
   "id": "df2e1f4f",
   "metadata": {},
   "outputs": [],
   "source": [
    "add = 0\n",
    "for i in time_slice:\n",
    "    add += i"
   ]
  },
  {
   "cell_type": "code",
   "execution_count": 20,
   "id": "6be6cba1",
   "metadata": {},
   "outputs": [],
   "source": [
    "time_slice = [250,250,250,255]"
   ]
  },
  {
   "cell_type": "code",
   "execution_count": 21,
   "id": "11178d4a",
   "metadata": {},
   "outputs": [],
   "source": [
    "lists = [x.split() for x in df_processing.back_to_strings]"
   ]
  },
  {
   "cell_type": "code",
   "execution_count": 22,
   "id": "7832e9b8",
   "metadata": {},
   "outputs": [
    {
     "data": {
      "text/plain": [
       "array([0, 0, 0, ..., 0, 0, 0])"
      ]
     },
     "execution_count": 22,
     "metadata": {},
     "output_type": "execute_result"
    }
   ],
   "source": [
    "matrix.toarray()[0]"
   ]
  },
  {
   "cell_type": "code",
   "execution_count": 23,
   "id": "f486a7fb",
   "metadata": {},
   "outputs": [],
   "source": [
    "list_of_values = vectorizer.get_feature_names()"
   ]
  },
  {
   "cell_type": "code",
   "execution_count": 24,
   "id": "49da0f5b",
   "metadata": {},
   "outputs": [],
   "source": [
    "list_of_answers = []\n",
    "for j in df_processing.back_to_strings:\n",
    "    answer = []\n",
    "    for i in j.split():\n",
    "        if i in list_of_values:\n",
    "            answer.append(i)\n",
    "    list_of_answers.append(answer)"
   ]
  },
  {
   "cell_type": "code",
   "execution_count": 25,
   "id": "b873a156",
   "metadata": {},
   "outputs": [],
   "source": [
    "dictionary = corpora.Dictionary()\n",
    "BoW_corpus = [dictionary.doc2bow(doc, allow_update=True) for doc in list_of_answers]"
   ]
  },
  {
   "cell_type": "code",
   "execution_count": 26,
   "id": "9b92b5c3",
   "metadata": {},
   "outputs": [
    {
     "name": "stderr",
     "output_type": "stream",
     "text": [
      "/Users/liammoran/opt/anaconda3/lib/python3.8/site-packages/gensim/models/ldaseqmodel.py:297: RuntimeWarning: divide by zero encountered in double_scalars\n",
      "  convergence = np.fabs((bound - old_bound) / old_bound)\n"
     ]
    }
   ],
   "source": [
    "ldaseq = ldaseqmodel.LdaSeqModel(corpus=BoW_corpus, time_slice=time_slice, num_topics=10, chunksize=100)"
   ]
  },
  {
   "cell_type": "code",
   "execution_count": 29,
   "id": "06fe83d5",
   "metadata": {},
   "outputs": [
    {
     "data": {
      "text/plain": [
       "[[('822', 0.02188168933715547),\n",
       "  ('684', 0.020969273602888683),\n",
       "  ('1430', 0.007498513049214615),\n",
       "  ('441', 0.004085967881631406),\n",
       "  ('327', 0.0036705324914095196),\n",
       "  ('489', 0.003409835334459035),\n",
       "  ('196', 0.003123327270230098),\n",
       "  ('542', 0.00295464172397948),\n",
       "  ('158', 0.0029329174997756186),\n",
       "  ('433', 0.0028437365874959086),\n",
       "  ('686', 0.0028394961138713754),\n",
       "  ('2031', 0.0028019703109155403),\n",
       "  ('904', 0.002779314530116176),\n",
       "  ('1408', 0.0027368975454852853),\n",
       "  ('165', 0.0025970503584106215),\n",
       "  ('863', 0.0025354142232276314),\n",
       "  ('322', 0.002503903735373961),\n",
       "  ('572', 0.002444786504431382),\n",
       "  ('862', 0.0024319603518554844),\n",
       "  ('964', 0.0023624684528673182)],\n",
       " [('441', 0.011879494106927183),\n",
       "  ('52', 0.00820361096447999),\n",
       "  ('144', 0.006537053944557106),\n",
       "  ('223', 0.005501306760963312),\n",
       "  ('1743', 0.004534002284187801),\n",
       "  ('322', 0.0042911870054916455),\n",
       "  ('187', 0.0036001230083714648),\n",
       "  ('1527', 0.00357535501611361),\n",
       "  ('2232', 0.003553189550778848),\n",
       "  ('1430', 0.0034595990422510033),\n",
       "  ('2210', 0.0034003116456621262),\n",
       "  ('65', 0.0033129609943924024),\n",
       "  ('990', 0.0032859567323810434),\n",
       "  ('18', 0.0032609250312007313),\n",
       "  ('862', 0.0031507531377572436),\n",
       "  ('328', 0.0031350176196259546),\n",
       "  ('177', 0.0030252001964913866),\n",
       "  ('2248', 0.002957249120594064),\n",
       "  ('191', 0.0029507397021972703),\n",
       "  ('147', 0.0028857116731553696)],\n",
       " [('441', 0.014282081071264765),\n",
       "  ('1886', 0.006233563068633106),\n",
       "  ('1847', 0.006038572944687426),\n",
       "  ('536', 0.005604516311165125),\n",
       "  ('4126', 0.005047019048188022),\n",
       "  ('4123', 0.00465021750902896),\n",
       "  ('4198', 0.004420891012216738),\n",
       "  ('1897', 0.0042394997341073494),\n",
       "  ('1652', 0.0041011500010093155),\n",
       "  ('1020', 0.004093808815812514),\n",
       "  ('1183', 0.003992960365235576),\n",
       "  ('1662', 0.003895655397853187),\n",
       "  ('636', 0.003724801565056817),\n",
       "  ('3175', 0.003680036117646675),\n",
       "  ('527', 0.0033785453768457076),\n",
       "  ('4099', 0.003258715736659166),\n",
       "  ('4052', 0.003245160795263708),\n",
       "  ('1527', 0.003221053737283051),\n",
       "  ('3070', 0.002992291289768124),\n",
       "  ('600', 0.0029780045128260683)],\n",
       " [('1886', 0.008194091588012617),\n",
       "  ('1688', 0.007810477784841359),\n",
       "  ('223', 0.007492303072364042),\n",
       "  ('1416', 0.006951839785555229),\n",
       "  ('584', 0.006338221068059634),\n",
       "  ('1023', 0.005856089996175294),\n",
       "  ('218', 0.005812052624836626),\n",
       "  ('4027', 0.005485821180526251),\n",
       "  ('52', 0.005136639579665881),\n",
       "  ('187', 0.004648499619654277),\n",
       "  ('1281', 0.004587904763596675),\n",
       "  ('1652', 0.004499374233805752),\n",
       "  ('1727', 0.004361759245352314),\n",
       "  ('822', 0.004320177869615441),\n",
       "  ('2377', 0.004254607673451074),\n",
       "  ('521', 0.004134103332013824),\n",
       "  ('1218', 0.0039742868625388715),\n",
       "  ('2296', 0.003813802246521825),\n",
       "  ('320', 0.0037479792281815637),\n",
       "  ('1020', 0.0036151920915302475)],\n",
       " [('1527', 0.019027601997809195),\n",
       "  ('4345', 0.007375735573363739),\n",
       "  ('435', 0.006075177940181597),\n",
       "  ('2192', 0.0060391357414692586),\n",
       "  ('2170', 0.00591245448472664),\n",
       "  ('223', 0.005390146220389355),\n",
       "  ('1640', 0.005261808182339725),\n",
       "  ('1735', 0.005226868633180682),\n",
       "  ('1570', 0.004972781264092988),\n",
       "  ('494', 0.004906009499225731),\n",
       "  ('4651', 0.0047808115174883545),\n",
       "  ('307', 0.004279171073291725),\n",
       "  ('3179', 0.004029636260240588),\n",
       "  ('1051', 0.0039522291731458395),\n",
       "  ('1515', 0.003931131957315916),\n",
       "  ('1142', 0.0036928232910315895),\n",
       "  ('1244', 0.0036339326588108434),\n",
       "  ('3800', 0.0036128934519137784),\n",
       "  ('413', 0.0035147286021499392),\n",
       "  ('1441', 0.003485029288155602)],\n",
       " [('3175', 0.02205995083842166),\n",
       "  ('3195', 0.018364556175770725),\n",
       "  ('2260', 0.017916043804176024),\n",
       "  ('4198', 0.013428144520836856),\n",
       "  ('4330', 0.012428145076288881),\n",
       "  ('1886', 0.010652559925254414),\n",
       "  ('3200', 0.009423669733684144),\n",
       "  ('600', 0.008280925494489395),\n",
       "  ('3513', 0.008190529901845156),\n",
       "  ('4941', 0.00800660005484525),\n",
       "  ('223', 0.006073506112613963),\n",
       "  ('391', 0.005981078222030074),\n",
       "  ('3125', 0.004866739079787077),\n",
       "  ('862', 0.004634508783520639),\n",
       "  ('1897', 0.004349340033916843),\n",
       "  ('52', 0.004281050547409863),\n",
       "  ('527', 0.004222284433908452),\n",
       "  ('906', 0.004129153213775817),\n",
       "  ('207', 0.003943779978672964),\n",
       "  ('65', 0.003932338670648497)],\n",
       " [('393', 0.01439146011989867),\n",
       "  ('1709', 0.011871839478374661),\n",
       "  ('461', 0.010763096292889652),\n",
       "  ('1465', 0.008963067016389211),\n",
       "  ('1819', 0.007813481895668986),\n",
       "  ('5190', 0.007414192142471873),\n",
       "  ('444', 0.007003626507310122),\n",
       "  ('1522', 0.006290182558433313),\n",
       "  ('232', 0.006033490567103908),\n",
       "  ('536', 0.005460124763406796),\n",
       "  ('1516', 0.005393554287240419),\n",
       "  ('460', 0.004895421405929756),\n",
       "  ('1870', 0.004494489916927413),\n",
       "  ('158', 0.004432515470520868),\n",
       "  ('121', 0.004388118372635799),\n",
       "  ('1428', 0.004334889642081343),\n",
       "  ('1886', 0.004241651222444213),\n",
       "  ('2540', 0.004179352626357911),\n",
       "  ('2518', 0.003864519317144275),\n",
       "  ('5108', 0.0038534753358721203)],\n",
       " [('542', 0.021261949786711004),\n",
       "  ('196', 0.008610816552287615),\n",
       "  ('1044', 0.007176197944381051),\n",
       "  ('158', 0.007051893872873992),\n",
       "  ('329', 0.007043495511520974),\n",
       "  ('223', 0.006735314617983622),\n",
       "  ('689', 0.006485852668811478),\n",
       "  ('286', 0.005741084099505552),\n",
       "  ('28', 0.0055073615373521624),\n",
       "  ('891', 0.005484115558166639),\n",
       "  ('520', 0.005396993754875233),\n",
       "  ('536', 0.005250394632122147),\n",
       "  ('211', 0.005157821535794541),\n",
       "  ('394', 0.00515101349378128),\n",
       "  ('431', 0.005091123398201427),\n",
       "  ('433', 0.005073745138926179),\n",
       "  ('87', 0.004946440836575961),\n",
       "  ('207', 0.004689922412445597),\n",
       "  ('862', 0.004594108580532543),\n",
       "  ('421', 0.004375295553683409)],\n",
       " [('441', 0.029390755825500003),\n",
       "  ('684', 0.00974307574300758),\n",
       "  ('822', 0.00864995422981428),\n",
       "  ('1430', 0.008236389104955869),\n",
       "  ('2424', 0.007608979927770575),\n",
       "  ('2073', 0.00610670436756667),\n",
       "  ('2974', 0.005493330823608877),\n",
       "  ('686', 0.005112769115332031),\n",
       "  ('2936', 0.005087097010108253),\n",
       "  ('1886', 0.004808030069788963),\n",
       "  ('2117', 0.004746448199568441),\n",
       "  ('4514', 0.004697001310589616),\n",
       "  ('2296', 0.00447196007618018),\n",
       "  ('1662', 0.004365663176081529),\n",
       "  ('1142', 0.0043462987379989035),\n",
       "  ('477', 0.004160605978384753),\n",
       "  ('688', 0.00383470601294526),\n",
       "  ('2533', 0.0038003759489801565),\n",
       "  ('6269', 0.003324315304136469),\n",
       "  ('2405', 0.0032752616953804154)],\n",
       " [('1048', 0.024024355707359397),\n",
       "  ('3735', 0.01076561935486662),\n",
       "  ('6246', 0.008006882413095013),\n",
       "  ('4593', 0.007503793637438015),\n",
       "  ('3736', 0.007487624304500799),\n",
       "  ('223', 0.005909426688491436),\n",
       "  ('1283', 0.005694539153953912),\n",
       "  ('1322', 0.005315616400206009),\n",
       "  ('3523', 0.0052554133985671155),\n",
       "  ('1020', 0.005000579945964228),\n",
       "  ('8710', 0.0049136906204138315),\n",
       "  ('1160', 0.004213467512524079),\n",
       "  ('8715', 0.00418097070004828),\n",
       "  ('2754', 0.003787839082578852),\n",
       "  ('1249', 0.003769372343233874),\n",
       "  ('1231', 0.0036933966579162036),\n",
       "  ('187', 0.0035578297232431474),\n",
       "  ('1232', 0.003324145116499085),\n",
       "  ('5755', 0.0032992325497704683),\n",
       "  ('625', 0.0032582726878693825)]]"
      ]
     },
     "execution_count": 29,
     "metadata": {},
     "output_type": "execute_result"
    }
   ],
   "source": [
    "ldaseq.print_topics()"
   ]
  },
  {
   "cell_type": "code",
   "execution_count": 31,
   "id": "fba2c4a3",
   "metadata": {},
   "outputs": [],
   "source": [
    "all_topics = []\n",
    "for i in range(10):\n",
    "    topic = ldaseq.print_topic(i)\n",
    "    topic_list=[]\n",
    "    for j in topic:\n",
    "        topic_list.append((dictionary[int(j[0])],j[1]))\n",
    "    all_topics.append(topic_list)\n"
   ]
  },
  {
   "cell_type": "code",
   "execution_count": 32,
   "id": "a2cab22b",
   "metadata": {},
   "outputs": [],
   "source": [
    "def show_topic(model,topic=0):\n",
    "    topic=ldaseq.print_topic(topic)\n",
    "    topic_list=[]\n",
    "    for j in topic:\n",
    "        topic_list.append((dictionary[int(j[0])],j[1]))\n",
    "    all_topics.append(topic_list)\n",
    "    return topic_list"
   ]
  },
  {
   "cell_type": "code",
   "execution_count": 44,
   "id": "a342d166",
   "metadata": {},
   "outputs": [
    {
     "data": {
      "text/plain": [
       "[('russian', 0.02205995083842166),\n",
       " ('ukraine', 0.018364556175770725),\n",
       " ('war', 0.017916043804176024),\n",
       " ('russia', 0.013428144520836856),\n",
       " ('ukrainian', 0.012428145076288881),\n",
       " ('state', 0.010652559925254414),\n",
       " ('abortion', 0.009423669733684144),\n",
       " ('country', 0.008280925494489395),\n",
       " ('military', 0.008190529901845156),\n",
       " ('putin', 0.00800660005484525),\n",
       " ('people', 0.006073506112613963),\n",
       " ('force', 0.005981078222030074),\n",
       " ('invasion', 0.004866739079787077),\n",
       " ('them', 0.004634508783520639),\n",
       " ('united', 0.004349340033916843),\n",
       " ('city', 0.004281050547409863),\n",
       " ('u', 0.004222284433908452),\n",
       " ('world', 0.004129153213775817),\n",
       " ('now', 0.003943779978672964),\n",
       " ('day', 0.003932338670648497)]"
      ]
     },
     "execution_count": 44,
     "metadata": {},
     "output_type": "execute_result"
    }
   ],
   "source": [
    "show_topic(ldaseq,5)"
   ]
  },
  {
   "cell_type": "code",
   "execution_count": 47,
   "id": "29bef956",
   "metadata": {},
   "outputs": [],
   "source": [
    "def show_topic_per_slice(model, topic=0):\n",
    "    time_periods = [1,2,3,4]\n",
    "    slice_dict={}\n",
    "    topic_list = ldaseq.print_topic_times(topic, top_terms=8)\n",
    "    for i in range(len(topic_list)):\n",
    "        inner_list = []\n",
    "        for j in topic_list[i]:\n",
    "            inner_list.append((dictionary[int(j[0])],j[1]))\n",
    "        slice_dict[time_periods[i]]=inner_list\n",
    "    return slice_dict"
   ]
  },
  {
   "cell_type": "code",
   "execution_count": 49,
   "id": "58a4501f",
   "metadata": {},
   "outputs": [],
   "source": [
    "topic_3 = show_topic_per_slice(ldaseq, topic=5)"
   ]
  },
  {
   "cell_type": "code",
   "execution_count": 77,
   "id": "6ca06dfd",
   "metadata": {},
   "outputs": [
    {
     "data": {
      "text/plain": [
       "[('russian', 0.02205995083842166),\n",
       " ('ukraine', 0.018364556175770725),\n",
       " ('war', 0.017916043804176024),\n",
       " ('russia', 0.013428144520836856),\n",
       " ('ukrainian', 0.012428145076288881),\n",
       " ('state', 0.010652559925254414),\n",
       " ('abortion', 0.009423669733684144),\n",
       " ('country', 0.008280925494489395)]"
      ]
     },
     "execution_count": 77,
     "metadata": {},
     "output_type": "execute_result"
    }
   ],
   "source": [
    "topic_3[1]"
   ]
  },
  {
   "cell_type": "code",
   "execution_count": 75,
   "id": "74ec6e21",
   "metadata": {},
   "outputs": [],
   "source": [
    "final_answer = [[],[],[]]\n",
    "for time_slice in topic_3:\n",
    "    time_period = topic_3[time_slice]\n",
    "    for word_index in range(3):\n",
    "        final_answer[word_index].append(time_period[word_index][1])\n",
    "        \n",
    "        "
   ]
  },
  {
   "cell_type": "code",
   "execution_count": 79,
   "id": "8839c43d",
   "metadata": {},
   "outputs": [],
   "source": [
    "russian = final_answer[0]\n",
    "ukraine = final_answer[1]\n",
    "war = final_answer[2]"
   ]
  },
  {
   "cell_type": "code",
   "execution_count": 80,
   "id": "0acdb92a",
   "metadata": {},
   "outputs": [],
   "source": [
    "time_periods = [1,2,3,4]\n"
   ]
  },
  {
   "cell_type": "code",
   "execution_count": 81,
   "id": "a0d6cdae",
   "metadata": {},
   "outputs": [],
   "source": [
    "import matplotlib.pyplot as plt"
   ]
  },
  {
   "cell_type": "code",
   "execution_count": 84,
   "id": "4e7c8603",
   "metadata": {},
   "outputs": [
    {
     "data": {
      "text/plain": [
       "<matplotlib.legend.Legend at 0x130a92670>"
      ]
     },
     "execution_count": 84,
     "metadata": {},
     "output_type": "execute_result"
    },
    {
     "data": {
      "image/png": "[encoded data removed]",
      "text/plain": [
       "<Figure size 432x288 with 1 Axes>"
      ]
     },
     "metadata": {
      "needs_background": "light"
     },
     "output_type": "display_data"
    }
   ],
   "source": [
    "plt.plot(time_periods, russian, label='russian')\n",
    "plt.plot(time_periods, ukraine, label='ukraine')\n",
    "plt.plot(time_periods, war, label='war')\n",
    "plt.legend()"
   ]
  },
  {
   "cell_type": "code",
   "execution_count": 97,
   "id": "4510f24f",
   "metadata": {},
   "outputs": [],
   "source": [
    "topic_4 = show_topic_per_slice(ldaseq, topic=9)"
   ]
  },
  {
   "cell_type": "code",
   "execution_count": 98,
   "id": "f4c15a4d",
   "metadata": {},
   "outputs": [
    {
     "data": {
      "text/plain": [
       "{1: [('dr', 0.024024355707359397),\n",
       "  ('china', 0.01076561935486662),\n",
       "  ('drug', 0.008006882413095013),\n",
       "  ('patient', 0.007503793637438015),\n",
       "  ('chinese', 0.007487624304500799),\n",
       "  ('people', 0.005909426688491436),\n",
       "  ('study', 0.005694539153953912),\n",
       "  ('university', 0.005315616400206009)],\n",
       " 2: [('dr', 0.0241310384490423),\n",
       "  ('china', 0.01074438970154012),\n",
       "  ('drug', 0.008206944019409934),\n",
       "  ('chinese', 0.007484965337192639),\n",
       "  ('patient', 0.007232419105082229),\n",
       "  ('people', 0.0059413838889646586),\n",
       "  ('study', 0.005460055452949309),\n",
       "  ('university', 0.005342701435834209)],\n",
       " 3: [('dr', 0.02407725151916541),\n",
       "  ('china', 0.010602975143862211),\n",
       "  ('drug', 0.008573243926061479),\n",
       "  ('patient', 0.007442187257216164),\n",
       "  ('chinese', 0.007409377493002889),\n",
       "  ('people', 0.005968586505264079),\n",
       "  ('hong', 0.0056580016296504795),\n",
       "  ('study', 0.005587129904134411)],\n",
       " 4: [('dr', 0.02408098566375488),\n",
       "  ('china', 0.010484330175254474),\n",
       "  ('drug', 0.00874812422815736),\n",
       "  ('patient', 0.007631609310825086),\n",
       "  ('chinese', 0.007352234287231234),\n",
       "  ('hong', 0.006206776741235286),\n",
       "  ('people', 0.0059978602057596765),\n",
       "  ('study', 0.005482524244729263)]}"
      ]
     },
     "execution_count": 98,
     "metadata": {},
     "output_type": "execute_result"
    }
   ],
   "source": [
    "topic_4"
   ]
  },
  {
   "cell_type": "code",
   "execution_count": 100,
   "id": "25809d4d",
   "metadata": {},
   "outputs": [],
   "source": [
    "final_answer = [[],[],[],[]]\n",
    "for time_slice in topic_3:\n",
    "    time_period = topic_3[time_slice]\n",
    "    for word_index in range(4):\n",
    "        final_answer[word_index].append(time_period[word_index][1])"
   ]
  },
  {
   "cell_type": "code",
   "execution_count": 101,
   "id": "80a96430",
   "metadata": {},
   "outputs": [],
   "source": [
    "dr = final_answer[0]\n",
    "china = final_answer[1]\n",
    "drug = final_answer[2]\n",
    "patient = final_answer[3]"
   ]
  },
  {
   "cell_type": "code",
   "execution_count": 103,
   "id": "76280bfc",
   "metadata": {},
   "outputs": [
    {
     "data": {
      "text/plain": [
       "<matplotlib.legend.Legend at 0x130bbbf70>"
      ]
     },
     "execution_count": 103,
     "metadata": {},
     "output_type": "execute_result"
    },
    {
     "data": {
      "image/png": "[encoded data removed]",
      "text/plain": [
       "<Figure size 432x288 with 1 Axes>"
      ]
     },
     "metadata": {
      "needs_background": "light"
     },
     "output_type": "display_data"
    }
   ],
   "source": [
    "plt.plot(time_periods, dr, label='dr')\n",
    "plt.plot(time_periods, china, label='china')\n",
    "plt.plot(time_periods, drug, label='drug')\n",
    "plt.plot(time_periods, patient, label='patient')\n",
    "plt.legend()"
   ]
  },
  {
   "cell_type": "code",
   "execution_count": null,
   "id": "fae31bd1",
   "metadata": {},
   "outputs": [],
   "source": []
  }
 ],
 "metadata": {
  "kernelspec": {
   "display_name": "Python 3",
   "language": "python",
   "name": "python3"
  },
  "language_info": {
   "codemirror_mode": {
    "name": "ipython",
    "version": 3
   },
   "file_extension": ".py",
   "mimetype": "text/x-python",
   "name": "python",
   "nbconvert_exporter": "python",
   "pygments_lexer": "ipython3",
   "version": "3.8.8"
  }
 },
 "nbformat": 4,
 "nbformat_minor": 5
}
